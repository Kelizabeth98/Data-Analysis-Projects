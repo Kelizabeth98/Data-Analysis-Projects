{
  "nbformat": 4,
  "nbformat_minor": 0,
  "metadata": {
    "colab": {
      "provenance": []
    },
    "kernelspec": {
      "name": "python3",
      "display_name": "Python 3"
    },
    "language_info": {
      "name": "python"
    }
  },
  "cells": [
    {
      "cell_type": "code",
      "source": [
        "pip install biopython matplotlib\n"
      ],
      "metadata": {
        "colab": {
          "base_uri": "https://localhost:8080/"
        },
        "id": "QvYefF17_r08",
        "outputId": "46560abe-f18e-4452-c6fb-fbc512444771"
      },
      "execution_count": 6,
      "outputs": [
        {
          "output_type": "stream",
          "name": "stdout",
          "text": [
            "Collecting biopython\n",
            "  Downloading biopython-1.85-cp311-cp311-manylinux_2_17_x86_64.manylinux2014_x86_64.whl.metadata (13 kB)\n",
            "Requirement already satisfied: matplotlib in /usr/local/lib/python3.11/dist-packages (3.10.0)\n",
            "Requirement already satisfied: numpy in /usr/local/lib/python3.11/dist-packages (from biopython) (2.0.2)\n",
            "Requirement already satisfied: contourpy>=1.0.1 in /usr/local/lib/python3.11/dist-packages (from matplotlib) (1.3.1)\n",
            "Requirement already satisfied: cycler>=0.10 in /usr/local/lib/python3.11/dist-packages (from matplotlib) (0.12.1)\n",
            "Requirement already satisfied: fonttools>=4.22.0 in /usr/local/lib/python3.11/dist-packages (from matplotlib) (4.57.0)\n",
            "Requirement already satisfied: kiwisolver>=1.3.1 in /usr/local/lib/python3.11/dist-packages (from matplotlib) (1.4.8)\n",
            "Requirement already satisfied: packaging>=20.0 in /usr/local/lib/python3.11/dist-packages (from matplotlib) (24.2)\n",
            "Requirement already satisfied: pillow>=8 in /usr/local/lib/python3.11/dist-packages (from matplotlib) (11.1.0)\n",
            "Requirement already satisfied: pyparsing>=2.3.1 in /usr/local/lib/python3.11/dist-packages (from matplotlib) (3.2.3)\n",
            "Requirement already satisfied: python-dateutil>=2.7 in /usr/local/lib/python3.11/dist-packages (from matplotlib) (2.8.2)\n",
            "Requirement already satisfied: six>=1.5 in /usr/local/lib/python3.11/dist-packages (from python-dateutil>=2.7->matplotlib) (1.17.0)\n",
            "Downloading biopython-1.85-cp311-cp311-manylinux_2_17_x86_64.manylinux2014_x86_64.whl (3.3 MB)\n",
            "\u001b[?25l   \u001b[90m━━━━━━━━━━━━━━━━━━━━━━━━━━━━━━━━━━━━━━━━\u001b[0m \u001b[32m0.0/3.3 MB\u001b[0m \u001b[31m?\u001b[0m eta \u001b[36m-:--:--\u001b[0m\r\u001b[2K   \u001b[91m━━━━━━━━━━━━━━━━━━━━━━━━━━━━━━━━━━━━━\u001b[0m\u001b[90m╺\u001b[0m\u001b[90m━━\u001b[0m \u001b[32m3.0/3.3 MB\u001b[0m \u001b[31m91.5 MB/s\u001b[0m eta \u001b[36m0:00:01\u001b[0m\r\u001b[2K   \u001b[90m━━━━━━━━━━━━━━━━━━━━━━━━━━━━━━━━━━━━━━━━\u001b[0m \u001b[32m3.3/3.3 MB\u001b[0m \u001b[31m58.7 MB/s\u001b[0m eta \u001b[36m0:00:00\u001b[0m\n",
            "\u001b[?25hInstalling collected packages: biopython\n",
            "Successfully installed biopython-1.85\n"
          ]
        }
      ]
    },
    {
      "cell_type": "code",
      "execution_count": 7,
      "metadata": {
        "colab": {
          "base_uri": "https://localhost:8080/"
        },
        "id": "WWvYlZN0-4KS",
        "outputId": "0fdbfaf2-99f1-4948-e243-ab810436c3b2"
      },
      "outputs": [
        {
          "output_type": "stream",
          "name": "stderr",
          "text": [
            "/usr/local/lib/python3.11/dist-packages/Bio/pairwise2.py:278: BiopythonDeprecationWarning: Bio.pairwise2 has been deprecated, and we intend to remove it in a future release of Biopython. As an alternative, please consider using Bio.Align.PairwiseAligner as a replacement, and contact the Biopython developers if you still need the Bio.pairwise2 module.\n",
            "  warnings.warn(\n"
          ]
        },
        {
          "output_type": "stream",
          "name": "stdout",
          "text": [
            "Retrieved sequence KT191142 successfully\n",
            "Retrieved sequence DQ217792 successfully\n",
            "\n",
            "Amino acid sequence (KT191142 positions 140-900):\n",
            "KCQKLWSTS*PVRR*LPKMDNQSSLFFCQSTLGWTRWLQETSPW*SHRIVTRVILLQVFQLWLRS\n"
          ]
        },
        {
          "output_type": "stream",
          "name": "stderr",
          "text": [
            "/usr/local/lib/python3.11/dist-packages/Bio/Seq.py:2879: BiopythonWarning: Partial codon, len(sequence) not a multiple of three. Explicitly trim the sequence or add trailing N before translation. This may become an error in future.\n",
            "  warnings.warn(\n"
          ]
        },
        {
          "output_type": "stream",
          "name": "stdout",
          "text": [
            "\n",
            "Global alignment score: 336.0\n",
            "Local alignment score: 336.0\n",
            "Global alignment visualization:\n",
            "ATTCTTTT-ACCCAACA-AAAGTGGGAAG-AAGGGGA-AC--A-G-T---GCC-G-ATC-TA-ACATC-TCCGGA--GAA-AATCCA--AGCA-ATAATGAC-TTC-A--CTC---CAGGA-CT-TTAA-------GA-\n",
            "|        |  | ||| |||     ||  ||   || |   | | |   |   | ||| || | |   |    |  ||| |||  |  |  | ||  |||| ||  |  ||    || |  || ||||       || \n",
            "A-------GA--C-ACACAAA-----AA-CAA---GAGA-TGATGATTTTG--TGTATCATATA-A--AT----AAAGAAGAAT--ATTA--ACAT--TGACATT-GAGACT-TGTCA-G-TCTGTTAATATTCTTGAA\n",
            "  Score=61\n",
            "\n",
            "\n",
            "Local alignment visualization:\n",
            "ATTCTTTT-ACCCAACA-AAAGTGGGAAG-AAGGGGA-AC--A-G-T---GCC-G-ATC-TA-ACATC-TCCGGA--GAA-AATCCA--AGCA-ATAATGAC-TTC-A--CTC---CAGGA-CT-TTAA-------G-A\n",
            "|        |  | ||| |||     ||  ||   || |   | | |   |   | ||| || | |   |    |  ||| |||  |  |  | ||  |||| ||  |  ||    || |  || ||||       | |\n",
            "A-------GA--C-ACACAAA-----AA-CAA---GAGA-TGATGATTTTG--TGTATCATATA-A--AT----AAAGAAGAAT--ATTA--ACAT--TGACATT-GAGACT-TGTCA-G-TCTGTTAATATTCTTGAA\n",
            "  Score=61\n",
            "\n"
          ]
        }
      ],
      "source": [
        "from Bio import Entrez, SeqIO\n",
        "from Bio.Seq import Seq\n",
        "from Bio.SeqRecord import SeqRecord\n",
        "from Bio.Align import PairwiseAligner\n",
        "from Bio.pairwise2 import format_alignment\n",
        "import matplotlib.pyplot as plt\n",
        "from Bio import pairwise2\n",
        "\n",
        "Entrez.email = \"frankonyango100@gmail.com\"\n",
        "\n",
        "# (v) Retrieve sequences from GenBank\n",
        "def get_genbank_sequences(accessions):\n",
        "    sequences = []\n",
        "    for acc in accessions:\n",
        "        try:\n",
        "            handle = Entrez.efetch(db=\"nucleotide\", id=acc, rettype=\"gb\", retmode=\"text\")\n",
        "            record = SeqIO.read(handle, \"genbank\")\n",
        "            sequences.append(record)\n",
        "            handle.close()\n",
        "            print(f\"Retrieved sequence {acc} successfully\")\n",
        "        except Exception as e:\n",
        "            print(f\"Error retrieving {acc}: {str(e)}\")\n",
        "    return sequences\n",
        "\n",
        "# (i) Extract partial sequence and translate to amino acids\n",
        "def extract_and_translate(sequence, start, end):\n",
        "    partial_seq = sequence.seq[start-1:end]  # Python is 0-based\n",
        "    protein_seq = partial_seq.translate()\n",
        "    return protein_seq\n",
        "\n",
        "# (ii) Compare sequences using global and local alignment\n",
        "def compare_sequences(seq1, seq2):\n",
        "    # Global alignment\n",
        "    aligner = PairwiseAligner()\n",
        "    aligner.mode = 'global'\n",
        "    global_alignments = aligner.align(seq1, seq2)\n",
        "\n",
        "    # Local alignment\n",
        "    aligner.mode = 'local'\n",
        "    local_alignments = aligner.align(seq1, seq2)\n",
        "\n",
        "    return global_alignments, local_alignments\n",
        "\n",
        "# (iii) Visualization of alignment\n",
        "def visualize_alignment(seq1, seq2):\n",
        "    # Using pairwise2 for better visualization formatting\n",
        "    alignments = pairwise2.align.globalxx(seq1, seq2)\n",
        "    print(\"Global alignment visualization:\")\n",
        "    print(format_alignment(*alignments[0]))\n",
        "\n",
        "    alignments = pairwise2.align.localxx(seq1, seq2)\n",
        "    print(\"\\nLocal alignment visualization:\")\n",
        "    print(format_alignment(*alignments[0]))\n",
        "\n",
        "def main():\n",
        "    accessions = ['KT191142', 'DQ217792']\n",
        "\n",
        "    # (v) Get sequences\n",
        "    sequences = get_genbank_sequences(accessions)\n",
        "    if len(sequences) != 2:\n",
        "        print(\"Error: Could not retrieve both sequences\")\n",
        "        return\n",
        "\n",
        "    kt191142, dq217792 = sequences\n",
        "\n",
        "    # (i) Extract and translate partial sequence\n",
        "    protein_seq = extract_and_translate(kt191142, 140, 900)\n",
        "    print(\"\\nAmino acid sequence (KT191142 positions 140-900):\")\n",
        "    print(protein_seq)\n",
        "\n",
        "    # (ii) Compare sequences\n",
        "    global_aligns, local_aligns = compare_sequences(kt191142.seq, dq217792.seq)\n",
        "\n",
        "    print(\"\\nGlobal alignment score:\", global_aligns[0].score)\n",
        "    print(\"Local alignment score:\", local_aligns[0].score)\n",
        "\n",
        "    # (iii) Visualization\n",
        "    visualize_alignment(str(kt191142.seq)[:100], str(dq217792.seq)[:100])  # Using first 100 bases for visualization\n",
        "\n",
        "if __name__ == \"__main__\":\n",
        "    main()"
      ]
    },
    {
      "cell_type": "code",
      "source": [],
      "metadata": {
        "id": "U_nW7fXX_Qce"
      },
      "execution_count": 2,
      "outputs": []
    }
  ]
}